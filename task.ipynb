{
 "cells": [
  {
   "cell_type": "markdown",
   "id": "ada8d99b-076c-4fb8-b404-443ccdd801a7",
   "metadata": {},
   "source": [
    "# Python\n",
    "В файле `task.csv` хранится таблица с рекламными событиями. События в таблице описываются следующими полями:\n",
    "\n",
    "- `typeevent`: тип события (18 - показ баннера, 95 - клик по баннеру)\n",
    "- `uniqid`: идентификатор пользователя\n",
    "- `_date`: день, в который произошло событие\n",
    "- `bannerid`: ID баннера, по которому произошел показ/клик\n",
    "\n",
    "На основе имеющихся данных ответьте на вопросы:\n",
    "\n",
    "1. [В какой из дней был максимальный CTR?](#step1)\n",
    "2. [Чему равно минимальное значение DAU?](#step2)\n",
    "3. [Чему равно медианное число показов на одного пользователя?](#step3)\n",
    "4. [Все `uniqid` состоят из 4 цифр. Какая цифра чаще всего встречается на 2 позиции (индексация с нуля) поля `uniqid` в логе?*](#step4)\n",
    "5. [Как много пар {пользователь; баннер} таких, что число кликов для них больше, чем число показов?*](#step5)\n",
    "6. [Сделайте график кликов по дням. Обязательно добавьте: название графика, подписи осей, добавьте сетку.](#step6)\n"
   ]
  },
  {
   "cell_type": "markdown",
   "id": "99ff39f2-3589-4c26-8ed3-2514b24c919c",
   "metadata": {},
   "source": [
    "### Шаг 0: Получение данных и подгрузка необходимых библиотек"
   ]
  },
  {
   "cell_type": "code",
   "execution_count": 3,
   "id": "03562f0e-9249-4b17-8d9f-eb4d9709684b",
   "metadata": {},
   "outputs": [
    {
     "name": "stdout",
     "output_type": "stream",
     "text": [
      "Defaulting to user installation because normal site-packages is not writeable\n",
      "Requirement already satisfied: matplotlib in c:\\users\\user3048\\appdata\\local\\packages\\pythonsoftwarefoundation.python.3.12_qbz5n2kfra8p0\\localcache\\local-packages\\python312\\site-packages (3.9.1)\n",
      "Requirement already satisfied: contourpy>=1.0.1 in c:\\users\\user3048\\appdata\\local\\packages\\pythonsoftwarefoundation.python.3.12_qbz5n2kfra8p0\\localcache\\local-packages\\python312\\site-packages (from matplotlib) (1.2.1)\n",
      "Requirement already satisfied: cycler>=0.10 in c:\\users\\user3048\\appdata\\local\\packages\\pythonsoftwarefoundation.python.3.12_qbz5n2kfra8p0\\localcache\\local-packages\\python312\\site-packages (from matplotlib) (0.12.1)\n",
      "Requirement already satisfied: fonttools>=4.22.0 in c:\\users\\user3048\\appdata\\local\\packages\\pythonsoftwarefoundation.python.3.12_qbz5n2kfra8p0\\localcache\\local-packages\\python312\\site-packages (from matplotlib) (4.53.1)\n",
      "Requirement already satisfied: kiwisolver>=1.3.1 in c:\\users\\user3048\\appdata\\local\\packages\\pythonsoftwarefoundation.python.3.12_qbz5n2kfra8p0\\localcache\\local-packages\\python312\\site-packages (from matplotlib) (1.4.5)\n",
      "Requirement already satisfied: numpy>=1.23 in c:\\users\\user3048\\appdata\\local\\packages\\pythonsoftwarefoundation.python.3.12_qbz5n2kfra8p0\\localcache\\local-packages\\python312\\site-packages (from matplotlib) (1.26.4)\n",
      "Requirement already satisfied: packaging>=20.0 in c:\\users\\user3048\\appdata\\local\\packages\\pythonsoftwarefoundation.python.3.12_qbz5n2kfra8p0\\localcache\\local-packages\\python312\\site-packages (from matplotlib) (24.0)\n",
      "Requirement already satisfied: pillow>=8 in c:\\users\\user3048\\appdata\\local\\packages\\pythonsoftwarefoundation.python.3.12_qbz5n2kfra8p0\\localcache\\local-packages\\python312\\site-packages (from matplotlib) (10.4.0)\n",
      "Requirement already satisfied: pyparsing>=2.3.1 in c:\\users\\user3048\\appdata\\local\\packages\\pythonsoftwarefoundation.python.3.12_qbz5n2kfra8p0\\localcache\\local-packages\\python312\\site-packages (from matplotlib) (3.1.2)\n",
      "Requirement already satisfied: python-dateutil>=2.7 in c:\\users\\user3048\\appdata\\local\\packages\\pythonsoftwarefoundation.python.3.12_qbz5n2kfra8p0\\localcache\\local-packages\\python312\\site-packages (from matplotlib) (2.8.2)\n",
      "Requirement already satisfied: six>=1.5 in c:\\users\\user3048\\appdata\\local\\packages\\pythonsoftwarefoundation.python.3.12_qbz5n2kfra8p0\\localcache\\local-packages\\python312\\site-packages (from python-dateutil>=2.7->matplotlib) (1.16.0)\n"
     ]
    },
    {
     "name": "stderr",
     "output_type": "stream",
     "text": [
      "\n",
      "[notice] A new release of pip is available: 23.1.2 -> 24.1.1\n",
      "[notice] To update, run: C:\\Users\\user3048\\AppData\\Local\\Microsoft\\WindowsApps\\PythonSoftwareFoundation.Python.3.12_qbz5n2kfra8p0\\python.exe -m pip install --upgrade pip\n"
     ]
    }
   ],
   "source": [
    "# Импортируем необходимые библиотеки\n",
    "import pandas as pd\n",
    "#!pip install matplotlib\n",
    "import matplotlib.pyplot as plt"
   ]
  },
  {
   "cell_type": "code",
   "execution_count": 4,
   "id": "b83f4deb-5cde-4878-b4be-2eb346f42be4",
   "metadata": {},
   "outputs": [
    {
     "name": "stdout",
     "output_type": "stream",
     "text": [
      "<class 'pandas.core.frame.DataFrame'>\n",
      "RangeIndex: 1048574 entries, 0 to 1048573\n",
      "Data columns (total 4 columns):\n",
      " #   Column     Non-Null Count    Dtype \n",
      "---  ------     --------------    ----- \n",
      " 0   typeevent  1048574 non-null  int64 \n",
      " 1   bannerid   1048574 non-null  int64 \n",
      " 2   _date      1048574 non-null  object\n",
      " 3   uniqid     1048574 non-null  int64 \n",
      "dtypes: int64(3), object(1)\n",
      "memory usage: 32.0+ MB\n"
     ]
    },
    {
     "data": {
      "text/html": [
       "<div>\n",
       "<style scoped>\n",
       "    .dataframe tbody tr th:only-of-type {\n",
       "        vertical-align: middle;\n",
       "    }\n",
       "\n",
       "    .dataframe tbody tr th {\n",
       "        vertical-align: top;\n",
       "    }\n",
       "\n",
       "    .dataframe thead th {\n",
       "        text-align: right;\n",
       "    }\n",
       "</style>\n",
       "<table border=\"1\" class=\"dataframe\">\n",
       "  <thead>\n",
       "    <tr style=\"text-align: right;\">\n",
       "      <th></th>\n",
       "      <th>typeevent</th>\n",
       "      <th>bannerid</th>\n",
       "      <th>_date</th>\n",
       "      <th>uniqid</th>\n",
       "    </tr>\n",
       "  </thead>\n",
       "  <tbody>\n",
       "    <tr>\n",
       "      <th>0</th>\n",
       "      <td>18</td>\n",
       "      <td>157626912</td>\n",
       "      <td>2021-06-02</td>\n",
       "      <td>7497</td>\n",
       "    </tr>\n",
       "    <tr>\n",
       "      <th>1</th>\n",
       "      <td>18</td>\n",
       "      <td>157703675</td>\n",
       "      <td>2021-06-01</td>\n",
       "      <td>8343</td>\n",
       "    </tr>\n",
       "    <tr>\n",
       "      <th>2</th>\n",
       "      <td>18</td>\n",
       "      <td>157703675</td>\n",
       "      <td>2021-06-02</td>\n",
       "      <td>9627</td>\n",
       "    </tr>\n",
       "    <tr>\n",
       "      <th>3</th>\n",
       "      <td>18</td>\n",
       "      <td>157703675</td>\n",
       "      <td>2021-06-01</td>\n",
       "      <td>8429</td>\n",
       "    </tr>\n",
       "    <tr>\n",
       "      <th>4</th>\n",
       "      <td>18</td>\n",
       "      <td>157703675</td>\n",
       "      <td>2021-06-02</td>\n",
       "      <td>8488</td>\n",
       "    </tr>\n",
       "  </tbody>\n",
       "</table>\n",
       "</div>"
      ],
      "text/plain": [
       "   typeevent   bannerid       _date  uniqid\n",
       "0         18  157626912  2021-06-02    7497\n",
       "1         18  157703675  2021-06-01    8343\n",
       "2         18  157703675  2021-06-02    9627\n",
       "3         18  157703675  2021-06-01    8429\n",
       "4         18  157703675  2021-06-02    8488"
      ]
     },
     "execution_count": 4,
     "metadata": {},
     "output_type": "execute_result"
    }
   ],
   "source": [
    "# Загрузим данные из файла task.csv\n",
    "data = pd.read_csv('task.csv')\n",
    "\n",
    "# Посмотрим на первые несколько строк данных\n",
    "data.info()\n",
    "data.head()"
   ]
  },
  {
   "cell_type": "markdown",
   "id": "1b44b951-2377-4cad-8a6a-796213330f69",
   "metadata": {},
   "source": [
    "Данные полны и корректны. Можно приступать к заданию."
   ]
  },
  {
   "cell_type": "markdown",
   "id": "f7799bb4-8bef-42be-af10-9b2f5489a7ac",
   "metadata": {},
   "source": [
    "### Шаг 1: В какой из дней был максимальный CTR? <a id='step1'></a>"
   ]
  },
  {
   "cell_type": "code",
   "execution_count": 5,
   "id": "a2e696b1-b41c-4d38-be0d-5e903c5f2ddd",
   "metadata": {},
   "outputs": [
    {
     "data": {
      "text/html": [
       "<div>\n",
       "<style scoped>\n",
       "    .dataframe tbody tr th:only-of-type {\n",
       "        vertical-align: middle;\n",
       "    }\n",
       "\n",
       "    .dataframe tbody tr th {\n",
       "        vertical-align: top;\n",
       "    }\n",
       "\n",
       "    .dataframe thead th {\n",
       "        text-align: right;\n",
       "    }\n",
       "</style>\n",
       "<table border=\"1\" class=\"dataframe\">\n",
       "  <thead>\n",
       "    <tr style=\"text-align: right;\">\n",
       "      <th></th>\n",
       "      <th>impressions</th>\n",
       "      <th>clicks</th>\n",
       "      <th>CTR</th>\n",
       "    </tr>\n",
       "    <tr>\n",
       "      <th>_date</th>\n",
       "      <th></th>\n",
       "      <th></th>\n",
       "      <th></th>\n",
       "    </tr>\n",
       "  </thead>\n",
       "  <tbody>\n",
       "    <tr>\n",
       "      <th>2021-06-01</th>\n",
       "      <td>233421</td>\n",
       "      <td>3370</td>\n",
       "      <td>1.443743</td>\n",
       "    </tr>\n",
       "    <tr>\n",
       "      <th>2021-06-02</th>\n",
       "      <td>261637</td>\n",
       "      <td>3467</td>\n",
       "      <td>1.325118</td>\n",
       "    </tr>\n",
       "    <tr>\n",
       "      <th>2021-06-03</th>\n",
       "      <td>267152</td>\n",
       "      <td>3415</td>\n",
       "      <td>1.278298</td>\n",
       "    </tr>\n",
       "    <tr>\n",
       "      <th>2021-06-04</th>\n",
       "      <td>272754</td>\n",
       "      <td>3358</td>\n",
       "      <td>1.231146</td>\n",
       "    </tr>\n",
       "  </tbody>\n",
       "</table>\n",
       "</div>"
      ],
      "text/plain": [
       "            impressions  clicks       CTR\n",
       "_date                                    \n",
       "2021-06-01       233421    3370  1.443743\n",
       "2021-06-02       261637    3467  1.325118\n",
       "2021-06-03       267152    3415  1.278298\n",
       "2021-06-04       272754    3358  1.231146"
      ]
     },
     "execution_count": 5,
     "metadata": {},
     "output_type": "execute_result"
    }
   ],
   "source": [
    "# Фильтруем данные по типам событий\n",
    "impressions = data[data['typeevent'] == 18]\n",
    "clicks = data[data['typeevent'] == 95]\n",
    "\n",
    "# Группируем данные по дате и считаем количество событий\n",
    "impressions_count = impressions.groupby('_date').size()\n",
    "clicks_count = clicks.groupby('_date').size()\n",
    "\n",
    "# Объединяем данные по датам\n",
    "ctr_data = pd.DataFrame({\n",
    "    'impressions': impressions_count,\n",
    "    'clicks': clicks_count\n",
    "}).fillna(0)  # Заполняем отсутствующие значения нулями\n",
    "\n",
    "# Вычисляем CTR\n",
    "ctr_data['CTR'] = (ctr_data['clicks'] / ctr_data['impressions']) * 100\n",
    "\n",
    "ctr_data"
   ]
  },
  {
   "cell_type": "markdown",
   "id": "ef569749-6479-4462-bd62-8cc11be474a9",
   "metadata": {},
   "source": [
    "CTR выше за 2021-06-01."
   ]
  },
  {
   "cell_type": "markdown",
   "id": "de6c6c5e-2891-4f1c-9b4b-7e669440d238",
   "metadata": {},
   "source": [
    "### Шаг 2: Чему равно минимальное значение DAU? <a id='step2'></a>"
   ]
  },
  {
   "cell_type": "code",
   "execution_count": 6,
   "id": "8687ab75-08bf-4280-9602-b4df59938275",
   "metadata": {},
   "outputs": [
    {
     "data": {
      "text/plain": [
       "_date\n",
       "2021-06-01    8999\n",
       "2021-06-02    8999\n",
       "2021-06-03    8999\n",
       "2021-06-04    8999\n",
       "Name: uniqid, dtype: int64"
      ]
     },
     "execution_count": 6,
     "metadata": {},
     "output_type": "execute_result"
    }
   ],
   "source": [
    "dau_data = data.groupby('_date')['uniqid'].nunique()\n",
    "dau_data"
   ]
  },
  {
   "cell_type": "markdown",
   "id": "d8b549e9-cfe2-4030-923b-7f3eec37e66b",
   "metadata": {},
   "source": [
    "Если считать активными пользователями всех, кто хотя бы видел баннер, то показатели равны. Посчитаем DAU, принимая за активных только тех, кто кликал по баннеру"
   ]
  },
  {
   "cell_type": "code",
   "execution_count": 7,
   "id": "613423a4-9335-45ed-83fd-d59ec48d536f",
   "metadata": {},
   "outputs": [
    {
     "data": {
      "text/plain": [
       "_date\n",
       "2021-06-01    2793\n",
       "2021-06-02    2905\n",
       "2021-06-03    2868\n",
       "2021-06-04    2824\n",
       "Name: uniqid, dtype: int64"
      ]
     },
     "execution_count": 7,
     "metadata": {},
     "output_type": "execute_result"
    }
   ],
   "source": [
    "dau_clicks_data = clicks.groupby('_date')['uniqid'].nunique()\n",
    "dau_clicks_data"
   ]
  },
  {
   "cell_type": "code",
   "execution_count": 8,
   "id": "2321f3ff-3612-4b57-bf4b-10147bd37daf",
   "metadata": {},
   "outputs": [
    {
     "data": {
      "text/plain": [
       "2793"
      ]
     },
     "execution_count": 8,
     "metadata": {},
     "output_type": "execute_result"
    }
   ],
   "source": [
    "dau_clicks_data.min()"
   ]
  },
  {
   "cell_type": "markdown",
   "id": "af2db10c-36bf-442b-a1d1-0c340e1c763b",
   "metadata": {},
   "source": [
    "Видим, что минимальное DAU равно 2793 и было достигнуто 2021-06-01"
   ]
  },
  {
   "cell_type": "markdown",
   "id": "6f501aae-feb2-4a22-9f05-cd821a01b1ca",
   "metadata": {},
   "source": [
    "### Шаг 3: Чему равно медианное число показов на одного пользователя? <a id='step3'></a>"
   ]
  },
  {
   "cell_type": "code",
   "execution_count": 9,
   "id": "d7d216eb-465d-43e7-89e0-b2a087962609",
   "metadata": {},
   "outputs": [
    {
     "data": {
      "text/plain": [
       "115.0"
      ]
     },
     "execution_count": 9,
     "metadata": {},
     "output_type": "execute_result"
    }
   ],
   "source": [
    "# Группируем данные по пользователю и считаем количество показов\n",
    "user_impressions = impressions.groupby('uniqid').size()\n",
    "\n",
    "# Находим медианное значение числа показов на одного пользователя\n",
    "user_impressions.median()"
   ]
  },
  {
   "cell_type": "markdown",
   "id": "2b146ed3-402c-418c-9600-3c09bb494a00",
   "metadata": {},
   "source": [
    "В среднем каждый пользователь увидел баннер 115 раз."
   ]
  },
  {
   "cell_type": "markdown",
   "id": "69e0185e-13be-4dea-9bae-3b28fee53057",
   "metadata": {},
   "source": [
    "### Шаг 4: Какая цифра чаще всего встречается на 2 позиции? <a id='step4'></a>"
   ]
  },
  {
   "cell_type": "code",
   "execution_count": 10,
   "id": "efb44588",
   "metadata": {},
   "outputs": [
    {
     "data": {
      "text/html": [
       "<div>\n",
       "<style scoped>\n",
       "    .dataframe tbody tr th:only-of-type {\n",
       "        vertical-align: middle;\n",
       "    }\n",
       "\n",
       "    .dataframe tbody tr th {\n",
       "        vertical-align: top;\n",
       "    }\n",
       "\n",
       "    .dataframe thead th {\n",
       "        text-align: right;\n",
       "    }\n",
       "</style>\n",
       "<table border=\"1\" class=\"dataframe\">\n",
       "  <thead>\n",
       "    <tr style=\"text-align: right;\">\n",
       "      <th></th>\n",
       "      <th>Цифра</th>\n",
       "      <th>Количество</th>\n",
       "    </tr>\n",
       "  </thead>\n",
       "  <tbody>\n",
       "    <tr>\n",
       "      <th>0</th>\n",
       "      <td>6</td>\n",
       "      <td>105369</td>\n",
       "    </tr>\n",
       "    <tr>\n",
       "      <th>1</th>\n",
       "      <td>1</td>\n",
       "      <td>105324</td>\n",
       "    </tr>\n",
       "    <tr>\n",
       "      <th>2</th>\n",
       "      <td>7</td>\n",
       "      <td>104912</td>\n",
       "    </tr>\n",
       "    <tr>\n",
       "      <th>3</th>\n",
       "      <td>5</td>\n",
       "      <td>104842</td>\n",
       "    </tr>\n",
       "    <tr>\n",
       "      <th>4</th>\n",
       "      <td>0</td>\n",
       "      <td>104804</td>\n",
       "    </tr>\n",
       "    <tr>\n",
       "      <th>5</th>\n",
       "      <td>4</td>\n",
       "      <td>104753</td>\n",
       "    </tr>\n",
       "    <tr>\n",
       "      <th>6</th>\n",
       "      <td>2</td>\n",
       "      <td>104726</td>\n",
       "    </tr>\n",
       "    <tr>\n",
       "      <th>7</th>\n",
       "      <td>8</td>\n",
       "      <td>104652</td>\n",
       "    </tr>\n",
       "    <tr>\n",
       "      <th>8</th>\n",
       "      <td>9</td>\n",
       "      <td>104638</td>\n",
       "    </tr>\n",
       "    <tr>\n",
       "      <th>9</th>\n",
       "      <td>3</td>\n",
       "      <td>104554</td>\n",
       "    </tr>\n",
       "  </tbody>\n",
       "</table>\n",
       "</div>"
      ],
      "text/plain": [
       "  Цифра  Количество\n",
       "0     6      105369\n",
       "1     1      105324\n",
       "2     7      104912\n",
       "3     5      104842\n",
       "4     0      104804\n",
       "5     4      104753\n",
       "6     2      104726\n",
       "7     8      104652\n",
       "8     9      104638\n",
       "9     3      104554"
      ]
     },
     "execution_count": 10,
     "metadata": {},
     "output_type": "execute_result"
    }
   ],
   "source": [
    "# Извлекаем третью цифру из 'uniqid' (индексация с нуля, поэтому берем индекс 2)\n",
    "third_digit = data['uniqid'].astype(str).str[2]\n",
    "\n",
    "# Подсчитываем количество вхождений каждой цифры\n",
    "digit_counts = third_digit.value_counts().reset_index()\n",
    "digit_counts.columns = ['Цифра', 'Количество']\n",
    "\n",
    "digit_counts"
   ]
  },
  {
   "cell_type": "markdown",
   "id": "f54655ef",
   "metadata": {},
   "source": [
    "Видим, что в целом цифры распределены равномерно, что ожидаемо"
   ]
  },
  {
   "cell_type": "code",
   "execution_count": 12,
   "id": "0b7c5cc3",
   "metadata": {},
   "outputs": [
    {
     "data": {
      "text/plain": [
       "Цифра              6\n",
       "Количество    105369\n",
       "Name: 0, dtype: object"
      ]
     },
     "execution_count": 12,
     "metadata": {},
     "output_type": "execute_result"
    }
   ],
   "source": [
    "#Выведем самую частую цифру и количество её появлений\n",
    "digit_counts.loc[digit_counts['Количество'].idxmax()]"
   ]
  },
  {
   "cell_type": "markdown",
   "id": "3df2f22e",
   "metadata": {},
   "source": [
    "Самой частой оказалось цифра 6 с количеством вхождений 105369"
   ]
  },
  {
   "cell_type": "markdown",
   "id": "e6f71952-7d53-45d7-ad99-93159c0c99d2",
   "metadata": {},
   "source": [
    "### Шаг 5: Как много пар {пользователь; баннер} таких, что число кликов для них больше, чем число показов? <a id='step5'></a>"
   ]
  },
  {
   "cell_type": "code",
   "execution_count": 18,
   "id": "947c969c",
   "metadata": {},
   "outputs": [
    {
     "data": {
      "text/plain": [
       "(1195, 74105)"
      ]
     },
     "execution_count": 18,
     "metadata": {},
     "output_type": "execute_result"
    }
   ],
   "source": [
    "# Группируем данные по пользователю и баннеру и считаем количество показов и кликов\n",
    "user_banner_impressions = impressions.groupby(['uniqid', 'bannerid']).size().reset_index(name='impressions')\n",
    "user_banner_clicks = clicks.groupby(['uniqid', 'bannerid']).size().reset_index(name='clicks')\n",
    "\n",
    "# Объединяем данные по пользователям и баннерам\n",
    "user_banner_data = pd.merge(user_banner_impressions, user_banner_clicks, on=['uniqid', 'bannerid'], how='outer').fillna(0)\n",
    "\n",
    "# Находим случаи, где количество кликов больше или равно количеству показов\n",
    "active_user_banner = user_banner_data[user_banner_data['clicks'] > user_banner_data['impressions']]\n",
    "\n",
    "# Выводим количество таких случаев\n",
    "(active_user_banner.shape[0], user_banner_data.shape[0])\n",
    "\n"
   ]
  },
  {
   "cell_type": "markdown",
   "id": "1b85191c",
   "metadata": {},
   "source": [
    "Искомое количество равно 1195, что не превышает 2% от общего числа пар."
   ]
  },
  {
   "cell_type": "markdown",
   "id": "99aa2b58-dcc1-4d02-b692-5e0c7df22923",
   "metadata": {},
   "source": [
    "### Шаг 6: График кликов по дням <a id='step6'></a>"
   ]
  },
  {
   "cell_type": "code",
   "execution_count": 19,
   "id": "57857427",
   "metadata": {},
   "outputs": [
    {
     "data": {
      "image/png": "[encoded data removed]",
      "text/plain": [
       "<Figure size 1000x600 with 1 Axes>"
      ]
     },
     "metadata": {},
     "output_type": "display_data"
    }
   ],
   "source": [
    "# Группируем данные по дате и считаем количество кликов\n",
    "clicks_per_day = clicks.groupby('_date').size()\n",
    "\n",
    "# Построение графика\n",
    "plt.figure(figsize=(10, 6))\n",
    "plt.plot(clicks_per_day.index, clicks_per_day.values, marker='o')\n",
    "\n",
    "# Добавляем название графика и подписи осей\n",
    "plt.title('Количество кликов по дням')\n",
    "plt.xlabel('Дата')\n",
    "plt.ylabel('Количество кликов')\n",
    "\n",
    "# Добавляем сетку\n",
    "plt.grid(True)\n",
    "\n",
    "# Отображаем график\n",
    "plt.show()"
   ]
  }
 ],
 "metadata": {
  "kernelspec": {
   "display_name": "Python 3 (ipykernel)",
   "language": "python",
   "name": "python3"
  },
  "language_info": {
   "codemirror_mode": {
    "name": "ipython",
    "version": 3
   },
   "file_extension": ".py",
   "mimetype": "text/x-python",
   "name": "python",
   "nbconvert_exporter": "python",
   "pygments_lexer": "ipython3",
   "version": "3.12.4"
  }
 },
 "nbformat": 4,
 "nbformat_minor": 5
}
